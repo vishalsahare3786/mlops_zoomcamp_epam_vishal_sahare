{
 "cells": [
  {
   "cell_type": "markdown",
   "id": "3085a4a0-4b95-405b-81bb-6136d7e0885b",
   "metadata": {},
   "source": [
    "## Vishal's Homework"
   ]
  },
  {
   "cell_type": "raw",
   "id": "23762778-3963-4509-ac64-c95dd2cea963",
   "metadata": {},
   "source": [
    "Q1. Install MLflow\n",
    "To get started with MLflow you'll need to install the MLflow Python package.\n",
    "\n",
    "For this we recommend creating a separate Python environment, for example, you can use conda environments, and then install the package there with pip or conda.\n",
    "\n",
    "Once you installed the package, run the command mlflow --version and check the output.\n",
    "\n",
    "What's the version that you have?"
   ]
  },
  {
   "cell_type": "code",
   "execution_count": 2,
   "id": "56c837a0-6fc2-4832-b1e7-8093388c5747",
   "metadata": {},
   "outputs": [
    {
     "name": "stdout",
     "output_type": "stream",
     "text": [
      "mlflow, version 2.16.2\n"
     ]
    }
   ],
   "source": [
    "!mlflow --version"
   ]
  },
  {
   "cell_type": "raw",
   "id": "532a0bad-4e51-4623-93c1-18dca6ee7ae9",
   "metadata": {},
   "source": [
    "Q2. Download and preprocess the data\n",
    "We'll use the Green Taxi Trip Records dataset to predict the duration of each trip.\n",
    "\n",
    "Download the data for January, February and March 2023 in parquet format from here.\n",
    "\n",
    "Use the script preprocess_data.py located in the folder homework to preprocess the data.\n",
    "\n",
    "The script will:\n",
    "\n",
    "load the data from the folder <TAXI_DATA_FOLDER> (the folder where you have downloaded the data),\n",
    "fit a DictVectorizer on the training set (January 2023 data),\n",
    "save the preprocessed datasets and the DictVectorizer to disk.\n",
    "Your task is to download the datasets and then execute this command:\n",
    "\n",
    "python preprocess_data.py --raw_data_path <TAXI_DATA_FOLDER> --dest_path ./output\n",
    "Tip: go to 02-experiment-tracking/homework/ folder before executing the command and change the value of <TAXI_DATA_FOLDER> to the location where you saved the data.\n",
    "\n",
    "How many files were saved to OUTPUT_FOLDER?\n",
    "\n",
    "1\n",
    "3\n",
    "4\n",
    "7"
   ]
  },
  {
   "cell_type": "code",
   "execution_count": null,
   "id": "2918dfdb-2dd7-415d-9661-4192f7bc403a",
   "metadata": {},
   "outputs": [],
   "source": [
    "# downloading the data from --> https://www.nyc.gov/site/tlc/about/tlc-trip-record-data.page\n"
   ]
  },
  {
   "cell_type": "code",
   "execution_count": null,
   "id": "75533908-fc98-4e55-a224-a8696c5d6d8e",
   "metadata": {},
   "outputs": [],
   "source": []
  },
  {
   "cell_type": "code",
   "execution_count": null,
   "id": "cb83146c-fee6-4b2d-b806-996ea671b324",
   "metadata": {},
   "outputs": [],
   "source": []
  },
  {
   "cell_type": "code",
   "execution_count": null,
   "id": "5dc0e4cb-f41b-4db5-9ccc-6dfdf8b6215e",
   "metadata": {},
   "outputs": [],
   "source": []
  },
  {
   "cell_type": "code",
   "execution_count": null,
   "id": "2a7b33e4-0411-421e-a16d-e52031691e6b",
   "metadata": {},
   "outputs": [],
   "source": []
  }
 ],
 "metadata": {
  "kernelspec": {
   "display_name": "Python 3 (ipykernel)",
   "language": "python",
   "name": "python3"
  },
  "language_info": {
   "codemirror_mode": {
    "name": "ipython",
    "version": 3
   },
   "file_extension": ".py",
   "mimetype": "text/x-python",
   "name": "python",
   "nbconvert_exporter": "python",
   "pygments_lexer": "ipython3",
   "version": "3.9.20"
  }
 },
 "nbformat": 4,
 "nbformat_minor": 5
}
